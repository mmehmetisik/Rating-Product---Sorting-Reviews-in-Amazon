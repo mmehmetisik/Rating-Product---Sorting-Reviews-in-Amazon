{
 "cells": [
  {
   "cell_type": "markdown",
   "id": "1e8e3529",
   "metadata": {
    "papermill": {
     "duration": 0.012669,
     "end_time": "2023-06-21T11:22:34.804840",
     "exception": false,
     "start_time": "2023-06-21T11:22:34.792171",
     "status": "completed"
    },
    "tags": []
   },
   "source": [
    "# Business Problem\n",
    "\n",
    "One of the most important problems in e-commerce is the correct calculation of the points given to the products after the sale.\n",
    "The solution to this problem means more customer satisfaction for the e-commerce site, product prominence for sellers and a smooth shopping experience for buyers. Another problem is the correct ranking of the reviews given to the products. Since the prominence of misleading reviews will directly affect the sales of the product, it will cause both financial loss and customer loss. In solving these 2 basic problems, e-commerce sites and sellers will increase their sales while customers will complete their purchasing journey smoothly."
   ]
  },
  {
   "cell_type": "markdown",
   "id": "0b9249d4",
   "metadata": {
    "papermill": {
     "duration": 0.010086,
     "end_time": "2023-06-21T11:22:34.825967",
     "exception": false,
     "start_time": "2023-06-21T11:22:34.815881",
     "status": "completed"
    },
    "tags": []
   },
   "source": [
    "# Data Story\n",
    "\n",
    "- Amazon ürün verilerini içeren bu veri seti ürün kategorileri ile çeşitli metadataları içermektedir.\n",
    "- Elektronik kategorisindeki en fazla yorum alan ürünün kullanıcı puanları ve yorumları vardır.\n",
    "\n",
    "**Variables\n",
    "- **reviewerID**: User ID\n",
    "- **asin:** Product ID\n",
    "- **reviewerName:** Username\n",
    "- **helpful:** Useful evaluation rating\n",
    "- **reviewText:** Review\n",
    "- **overall:** Product rating\n",
    "- **summary:** Evaluation summary\n",
    "- **unixReviewTime:** Review time\n",
    "- **reviewTime:** Review time Raw\n",
    "- **day_diff:** Number of days since evaluation\n",
    "- **helpful_yes:** Number of times the evaluation was found helpful\n",
    "- **total_vote:** Number of votes for the evaluation"
   ]
  },
  {
   "cell_type": "code",
   "execution_count": 1,
   "id": "e6c1f1e7",
   "metadata": {
    "execution": {
     "iopub.execute_input": "2023-06-21T11:22:34.850009Z",
     "iopub.status.busy": "2023-06-21T11:22:34.848946Z",
     "iopub.status.idle": "2023-06-21T11:22:36.220574Z",
     "shell.execute_reply": "2023-06-21T11:22:36.219441Z"
    },
    "papermill": {
     "duration": 1.386355,
     "end_time": "2023-06-21T11:22:36.223295",
     "exception": false,
     "start_time": "2023-06-21T11:22:34.836940",
     "status": "completed"
    },
    "tags": []
   },
   "outputs": [],
   "source": [
    "# import Required Libraries\n",
    "\n",
    "import numpy as np\n",
    "import pandas as pd\n",
    "import math\n",
    "import scipy.stats as st\n",
    "import datetime as dt\n",
    "from sklearn.preprocessing import MinMaxScaler"
   ]
  },
  {
   "cell_type": "code",
   "execution_count": 2,
   "id": "b8d42c98",
   "metadata": {
    "execution": {
     "iopub.execute_input": "2023-06-21T11:22:36.245806Z",
     "iopub.status.busy": "2023-06-21T11:22:36.245392Z",
     "iopub.status.idle": "2023-06-21T11:22:36.251607Z",
     "shell.execute_reply": "2023-06-21T11:22:36.250332Z"
    },
    "papermill": {
     "duration": 0.020523,
     "end_time": "2023-06-21T11:22:36.254289",
     "exception": false,
     "start_time": "2023-06-21T11:22:36.233766",
     "status": "completed"
    },
    "tags": []
   },
   "outputs": [],
   "source": [
    "# Adjusting Row Column Settings\n",
    "\n",
    "pd.set_option('display.max_rows', None)\n",
    "pd.set_option('display.max_columns', None)\n",
    "pd.set_option('display.width', 500)\n",
    "pd.set_option('display.expand_frame_repr', False)\n",
    "pd.set_option('display.float_format', lambda x: '%.5f' % x)\n"
   ]
  },
  {
   "cell_type": "code",
   "execution_count": 3,
   "id": "762fd26f",
   "metadata": {
    "execution": {
     "iopub.execute_input": "2023-06-21T11:22:36.276934Z",
     "iopub.status.busy": "2023-06-21T11:22:36.276513Z",
     "iopub.status.idle": "2023-06-21T11:22:36.367288Z",
     "shell.execute_reply": "2023-06-21T11:22:36.366397Z"
    },
    "papermill": {
     "duration": 0.104992,
     "end_time": "2023-06-21T11:22:36.369824",
     "exception": false,
     "start_time": "2023-06-21T11:22:36.264832",
     "status": "completed"
    },
    "tags": []
   },
   "outputs": [],
   "source": [
    "# Loading the Data Set\n",
    "\n",
    "df = pd.read_csv(\"/kaggle/input/amazon-review/amazon_review.csv\")"
   ]
  },
  {
   "cell_type": "code",
   "execution_count": 4,
   "id": "60d8d8ab",
   "metadata": {
    "execution": {
     "iopub.execute_input": "2023-06-21T11:22:36.392609Z",
     "iopub.status.busy": "2023-06-21T11:22:36.392162Z",
     "iopub.status.idle": "2023-06-21T11:22:36.455811Z",
     "shell.execute_reply": "2023-06-21T11:22:36.454146Z"
    },
    "papermill": {
     "duration": 0.078146,
     "end_time": "2023-06-21T11:22:36.458459",
     "exception": false,
     "start_time": "2023-06-21T11:22:36.380313",
     "status": "completed"
    },
    "tags": []
   },
   "outputs": [
    {
     "name": "stdout",
     "output_type": "stream",
     "text": [
      "##################### Shape #####################\n",
      "(4915, 12)\n",
      "##################### Types #####################\n",
      "reviewerID         object\n",
      "asin               object\n",
      "reviewerName       object\n",
      "helpful            object\n",
      "reviewText         object\n",
      "overall           float64\n",
      "summary            object\n",
      "unixReviewTime      int64\n",
      "reviewTime         object\n",
      "day_diff            int64\n",
      "helpful_yes         int64\n",
      "total_vote          int64\n",
      "dtype: object\n",
      "##################### Head #####################\n",
      "       reviewerID        asin  reviewerName helpful                                         reviewText  overall                                 summary  unixReviewTime  reviewTime  day_diff  helpful_yes  total_vote\n",
      "0  A3SBTW3WS4IQSN  B007WTAJTO           NaN  [0, 0]                                         No issues.  4.00000                              Four Stars      1406073600  2014-07-23       138            0           0\n",
      "1  A18K1ODH1I2MVB  B007WTAJTO          0mie  [0, 0]  Purchased this for my device, it worked as adv...  5.00000                           MOAR SPACE!!!      1382659200  2013-10-25       409            0           0\n",
      "2  A2FII3I2MBMUIA  B007WTAJTO           1K3  [0, 0]  it works as expected. I should have sprung for...  4.00000               nothing to really say....      1356220800  2012-12-23       715            0           0\n",
      "3   A3H99DFEG68SR  B007WTAJTO           1m2  [0, 0]  This think has worked out great.Had a diff. br...  5.00000  Great buy at this price!!!  *** UPDATE      1384992000  2013-11-21       382            0           0\n",
      "4  A375ZM4U047O79  B007WTAJTO  2&amp;1/2Men  [0, 0]  Bought it with Retail Packaging, arrived legit...  5.00000                        best deal around      1373673600  2013-07-13       513            0           0\n",
      "##################### Tail #####################\n",
      "          reviewerID        asin reviewerName helpful                                         reviewText  overall                        summary  unixReviewTime  reviewTime  day_diff  helpful_yes  total_vote\n",
      "4910  A2LBMKXRM5H2W9  B007WTAJTO       ZM \"J\"  [0, 0]  I bought this Sandisk 16GB Class 10 to use wit...  1.00000       Do not waste your money.      1374537600  2013-07-23       503            0           0\n",
      "4911   ALGDLRUI1ZPCS  B007WTAJTO           Zo  [0, 0]  Used this for extending the capabilities of my...  5.00000                    Great item!      1377129600  2013-08-22       473            0           0\n",
      "4912  A2MR1NI0ENW2AD  B007WTAJTO    Z S Liske  [0, 0]  Great card that is very fast and reliable. It ...  5.00000  Fast and reliable memory card      1396224000  2014-03-31       252            0           0\n",
      "4913  A37E6P3DSO9QJD  B007WTAJTO     Z Taylor  [0, 0]  Good amount of space for the stuff I want to d...  5.00000              Great little card      1379289600  2013-09-16       448            0           0\n",
      "4914   A8KGFTFQ86IBR  B007WTAJTO          Zza  [0, 0]  I've heard bad things about this 64gb Micro SD...  5.00000                So far so good.      1388620800  2014-02-01       310            0           0\n",
      "##################### NA #####################\n",
      "reviewerID        0\n",
      "asin              0\n",
      "reviewerName      1\n",
      "helpful           0\n",
      "reviewText        1\n",
      "overall           0\n",
      "summary           0\n",
      "unixReviewTime    0\n",
      "reviewTime        0\n",
      "day_diff          0\n",
      "helpful_yes       0\n",
      "total_vote        0\n",
      "dtype: int64\n",
      "##################### Quantiles #####################\n",
      "                    count             mean            std              min               0%               5%              50%              95%              99%             100%              max\n",
      "overall        4915.00000          4.58759        0.99685          1.00000          1.00000          2.00000          5.00000          5.00000          5.00000          5.00000          5.00000\n",
      "unixReviewTime 4915.00000 1379465001.66836 15818574.32275 1339200000.00000 1339200000.00000 1354492800.00000 1381276800.00000 1403308800.00000 1404950400.00000 1406073600.00000 1406073600.00000\n",
      "day_diff       4915.00000        437.36704      209.43987          1.00000          1.00000         98.00000        431.00000        748.00000        943.00000       1064.00000       1064.00000\n",
      "helpful_yes    4915.00000          1.31109       41.61916          0.00000          0.00000          0.00000          0.00000          1.00000          3.00000       1952.00000       1952.00000\n",
      "total_vote     4915.00000          1.52146       44.12309          0.00000          0.00000          0.00000          0.00000          1.00000          4.00000       2020.00000       2020.00000\n"
     ]
    }
   ],
   "source": [
    "# Preliminary examination of the data set\n",
    "\n",
    "def check_df(dataframe, head=5):\n",
    "    print('##################### Shape #####################')\n",
    "    print(dataframe.shape)\n",
    "    print('##################### Types #####################')\n",
    "    print(dataframe.dtypes)\n",
    "    print('##################### Head #####################')\n",
    "    print(dataframe.head(head))\n",
    "    print('##################### Tail #####################')\n",
    "    print(dataframe.tail(head))\n",
    "    print('##################### NA #####################')\n",
    "    print(dataframe.isnull().sum())\n",
    "    print('##################### Quantiles #####################')\n",
    "    print(dataframe.describe([0, 0.05, 0.50, 0.95, 0.99, 1]).T)\n",
    "\n",
    "check_df(df)"
   ]
  },
  {
   "cell_type": "code",
   "execution_count": 5,
   "id": "955f1666",
   "metadata": {
    "execution": {
     "iopub.execute_input": "2023-06-21T11:22:36.482176Z",
     "iopub.status.busy": "2023-06-21T11:22:36.481580Z",
     "iopub.status.idle": "2023-06-21T11:22:36.492770Z",
     "shell.execute_reply": "2023-06-21T11:22:36.491941Z"
    },
    "papermill": {
     "duration": 0.025487,
     "end_time": "2023-06-21T11:22:36.494940",
     "exception": false,
     "start_time": "2023-06-21T11:22:36.469453",
     "status": "completed"
    },
    "tags": []
   },
   "outputs": [
    {
     "data": {
      "text/plain": [
       "5.00000    3922\n",
       "4.00000     527\n",
       "1.00000     244\n",
       "3.00000     142\n",
       "2.00000      80\n",
       "Name: overall, dtype: int64"
      ]
     },
     "execution_count": 5,
     "metadata": {},
     "output_type": "execute_result"
    }
   ],
   "source": [
    "df['overall'].value_counts()"
   ]
  },
  {
   "cell_type": "code",
   "execution_count": 6,
   "id": "86b2776a",
   "metadata": {
    "execution": {
     "iopub.execute_input": "2023-06-21T11:22:36.519239Z",
     "iopub.status.busy": "2023-06-21T11:22:36.518632Z",
     "iopub.status.idle": "2023-06-21T11:22:36.525079Z",
     "shell.execute_reply": "2023-06-21T11:22:36.523978Z"
    },
    "papermill": {
     "duration": 0.021402,
     "end_time": "2023-06-21T11:22:36.527240",
     "exception": false,
     "start_time": "2023-06-21T11:22:36.505838",
     "status": "completed"
    },
    "tags": []
   },
   "outputs": [
    {
     "data": {
      "text/plain": [
       "4.587589013224822"
      ]
     },
     "execution_count": 6,
     "metadata": {},
     "output_type": "execute_result"
    }
   ],
   "source": [
    "df['overall'].mean()"
   ]
  },
  {
   "cell_type": "code",
   "execution_count": 7,
   "id": "f267b783",
   "metadata": {
    "execution": {
     "iopub.execute_input": "2023-06-21T11:22:36.551289Z",
     "iopub.status.busy": "2023-06-21T11:22:36.550602Z",
     "iopub.status.idle": "2023-06-21T11:22:36.573201Z",
     "shell.execute_reply": "2023-06-21T11:22:36.572067Z"
    },
    "papermill": {
     "duration": 0.037591,
     "end_time": "2023-06-21T11:22:36.575656",
     "exception": false,
     "start_time": "2023-06-21T11:22:36.538065",
     "status": "completed"
    },
    "tags": []
   },
   "outputs": [
    {
     "data": {
      "text/html": [
       "<div>\n",
       "<style scoped>\n",
       "    .dataframe tbody tr th:only-of-type {\n",
       "        vertical-align: middle;\n",
       "    }\n",
       "\n",
       "    .dataframe tbody tr th {\n",
       "        vertical-align: top;\n",
       "    }\n",
       "\n",
       "    .dataframe thead th {\n",
       "        text-align: right;\n",
       "    }\n",
       "</style>\n",
       "<table border=\"1\" class=\"dataframe\">\n",
       "  <thead>\n",
       "    <tr style=\"text-align: right;\">\n",
       "      <th></th>\n",
       "      <th>reviewerID</th>\n",
       "      <th>asin</th>\n",
       "      <th>reviewerName</th>\n",
       "      <th>helpful</th>\n",
       "      <th>reviewText</th>\n",
       "      <th>overall</th>\n",
       "      <th>summary</th>\n",
       "      <th>unixReviewTime</th>\n",
       "      <th>reviewTime</th>\n",
       "      <th>day_diff</th>\n",
       "      <th>helpful_yes</th>\n",
       "      <th>total_vote</th>\n",
       "    </tr>\n",
       "  </thead>\n",
       "  <tbody>\n",
       "    <tr>\n",
       "      <th>0</th>\n",
       "      <td>A3SBTW3WS4IQSN</td>\n",
       "      <td>B007WTAJTO</td>\n",
       "      <td>NaN</td>\n",
       "      <td>[0, 0]</td>\n",
       "      <td>No issues.</td>\n",
       "      <td>4.00000</td>\n",
       "      <td>Four Stars</td>\n",
       "      <td>1406073600</td>\n",
       "      <td>2014-07-23</td>\n",
       "      <td>138</td>\n",
       "      <td>0</td>\n",
       "      <td>0</td>\n",
       "    </tr>\n",
       "    <tr>\n",
       "      <th>1</th>\n",
       "      <td>A18K1ODH1I2MVB</td>\n",
       "      <td>B007WTAJTO</td>\n",
       "      <td>0mie</td>\n",
       "      <td>[0, 0]</td>\n",
       "      <td>Purchased this for my device, it worked as adv...</td>\n",
       "      <td>5.00000</td>\n",
       "      <td>MOAR SPACE!!!</td>\n",
       "      <td>1382659200</td>\n",
       "      <td>2013-10-25</td>\n",
       "      <td>409</td>\n",
       "      <td>0</td>\n",
       "      <td>0</td>\n",
       "    </tr>\n",
       "    <tr>\n",
       "      <th>2</th>\n",
       "      <td>A2FII3I2MBMUIA</td>\n",
       "      <td>B007WTAJTO</td>\n",
       "      <td>1K3</td>\n",
       "      <td>[0, 0]</td>\n",
       "      <td>it works as expected. I should have sprung for...</td>\n",
       "      <td>4.00000</td>\n",
       "      <td>nothing to really say....</td>\n",
       "      <td>1356220800</td>\n",
       "      <td>2012-12-23</td>\n",
       "      <td>715</td>\n",
       "      <td>0</td>\n",
       "      <td>0</td>\n",
       "    </tr>\n",
       "    <tr>\n",
       "      <th>3</th>\n",
       "      <td>A3H99DFEG68SR</td>\n",
       "      <td>B007WTAJTO</td>\n",
       "      <td>1m2</td>\n",
       "      <td>[0, 0]</td>\n",
       "      <td>This think has worked out great.Had a diff. br...</td>\n",
       "      <td>5.00000</td>\n",
       "      <td>Great buy at this price!!!  *** UPDATE</td>\n",
       "      <td>1384992000</td>\n",
       "      <td>2013-11-21</td>\n",
       "      <td>382</td>\n",
       "      <td>0</td>\n",
       "      <td>0</td>\n",
       "    </tr>\n",
       "    <tr>\n",
       "      <th>4</th>\n",
       "      <td>A375ZM4U047O79</td>\n",
       "      <td>B007WTAJTO</td>\n",
       "      <td>2&amp;amp;1/2Men</td>\n",
       "      <td>[0, 0]</td>\n",
       "      <td>Bought it with Retail Packaging, arrived legit...</td>\n",
       "      <td>5.00000</td>\n",
       "      <td>best deal around</td>\n",
       "      <td>1373673600</td>\n",
       "      <td>2013-07-13</td>\n",
       "      <td>513</td>\n",
       "      <td>0</td>\n",
       "      <td>0</td>\n",
       "    </tr>\n",
       "  </tbody>\n",
       "</table>\n",
       "</div>"
      ],
      "text/plain": [
       "       reviewerID        asin  reviewerName helpful                                         reviewText  overall                                 summary  unixReviewTime  reviewTime  day_diff  helpful_yes  total_vote\n",
       "0  A3SBTW3WS4IQSN  B007WTAJTO           NaN  [0, 0]                                         No issues.  4.00000                              Four Stars      1406073600  2014-07-23       138            0           0\n",
       "1  A18K1ODH1I2MVB  B007WTAJTO          0mie  [0, 0]  Purchased this for my device, it worked as adv...  5.00000                           MOAR SPACE!!!      1382659200  2013-10-25       409            0           0\n",
       "2  A2FII3I2MBMUIA  B007WTAJTO           1K3  [0, 0]  it works as expected. I should have sprung for...  4.00000               nothing to really say....      1356220800  2012-12-23       715            0           0\n",
       "3   A3H99DFEG68SR  B007WTAJTO           1m2  [0, 0]  This think has worked out great.Had a diff. br...  5.00000  Great buy at this price!!!  *** UPDATE      1384992000  2013-11-21       382            0           0\n",
       "4  A375ZM4U047O79  B007WTAJTO  2&amp;1/2Men  [0, 0]  Bought it with Retail Packaging, arrived legit...  5.00000                        best deal around      1373673600  2013-07-13       513            0           0"
      ]
     },
     "execution_count": 7,
     "metadata": {},
     "output_type": "execute_result"
    }
   ],
   "source": [
    "df.head()"
   ]
  },
  {
   "cell_type": "markdown",
   "id": "3dfd78da",
   "metadata": {
    "papermill": {
     "duration": 0.011354,
     "end_time": "2023-06-21T11:22:36.598206",
     "exception": false,
     "start_time": "2023-06-21T11:22:36.586852",
     "status": "completed"
    },
    "tags": []
   },
   "source": [
    "# Calculating the Weighted Grade Point Average by Date."
   ]
  },
  {
   "cell_type": "code",
   "execution_count": 8,
   "id": "e3c7fd34",
   "metadata": {
    "execution": {
     "iopub.execute_input": "2023-06-21T11:22:36.623367Z",
     "iopub.status.busy": "2023-06-21T11:22:36.622701Z",
     "iopub.status.idle": "2023-06-21T11:22:36.632094Z",
     "shell.execute_reply": "2023-06-21T11:22:36.630913Z"
    },
    "papermill": {
     "duration": 0.024623,
     "end_time": "2023-06-21T11:22:36.634501",
     "exception": false,
     "start_time": "2023-06-21T11:22:36.609878",
     "status": "completed"
    },
    "tags": []
   },
   "outputs": [
    {
     "data": {
      "text/plain": [
       "4.6957928802588995"
      ]
     },
     "execution_count": 8,
     "metadata": {},
     "output_type": "execute_result"
    }
   ],
   "source": [
    "df.loc[df[\"day_diff\"] <= df[\"day_diff\"].quantile(0.25), \"overall\"].mean()"
   ]
  },
  {
   "cell_type": "code",
   "execution_count": 9,
   "id": "8ebca243",
   "metadata": {
    "execution": {
     "iopub.execute_input": "2023-06-21T11:22:36.659922Z",
     "iopub.status.busy": "2023-06-21T11:22:36.659463Z",
     "iopub.status.idle": "2023-06-21T11:22:36.672800Z",
     "shell.execute_reply": "2023-06-21T11:22:36.671658Z"
    },
    "papermill": {
     "duration": 0.029276,
     "end_time": "2023-06-21T11:22:36.675265",
     "exception": false,
     "start_time": "2023-06-21T11:22:36.645989",
     "status": "completed"
    },
    "tags": []
   },
   "outputs": [
    {
     "data": {
      "text/plain": [
       "4.636140637775961"
      ]
     },
     "execution_count": 9,
     "metadata": {},
     "output_type": "execute_result"
    }
   ],
   "source": [
    "df.loc[(df[\"day_diff\"] > df[\"day_diff\"].quantile(0.25)) & (df[\"day_diff\"] <= df[\"day_diff\"].quantile(0.50)), \"overall\"].mean()"
   ]
  },
  {
   "cell_type": "code",
   "execution_count": 10,
   "id": "d78fb4fb",
   "metadata": {
    "execution": {
     "iopub.execute_input": "2023-06-21T11:22:36.700217Z",
     "iopub.status.busy": "2023-06-21T11:22:36.699807Z",
     "iopub.status.idle": "2023-06-21T11:22:36.712820Z",
     "shell.execute_reply": "2023-06-21T11:22:36.711326Z"
    },
    "papermill": {
     "duration": 0.028588,
     "end_time": "2023-06-21T11:22:36.715347",
     "exception": false,
     "start_time": "2023-06-21T11:22:36.686759",
     "status": "completed"
    },
    "tags": []
   },
   "outputs": [
    {
     "data": {
      "text/plain": [
       "4.571661237785016"
      ]
     },
     "execution_count": 10,
     "metadata": {},
     "output_type": "execute_result"
    }
   ],
   "source": [
    "df.loc[(df[\"day_diff\"] > df[\"day_diff\"].quantile(0.50)) & (df[\"day_diff\"] <= df[\"day_diff\"].quantile(0.75)), \"overall\"].mean()"
   ]
  },
  {
   "cell_type": "code",
   "execution_count": 11,
   "id": "cc8dd066",
   "metadata": {
    "execution": {
     "iopub.execute_input": "2023-06-21T11:22:36.741696Z",
     "iopub.status.busy": "2023-06-21T11:22:36.741266Z",
     "iopub.status.idle": "2023-06-21T11:22:36.752218Z",
     "shell.execute_reply": "2023-06-21T11:22:36.751067Z"
    },
    "papermill": {
     "duration": 0.026715,
     "end_time": "2023-06-21T11:22:36.754493",
     "exception": false,
     "start_time": "2023-06-21T11:22:36.727778",
     "status": "completed"
    },
    "tags": []
   },
   "outputs": [
    {
     "data": {
      "text/plain": [
       "4.4462540716612375"
      ]
     },
     "execution_count": 11,
     "metadata": {},
     "output_type": "execute_result"
    }
   ],
   "source": [
    "df.loc[(df[\"day_diff\"] > df[\"day_diff\"].quantile(0.75)), \"overall\"].mean()"
   ]
  },
  {
   "cell_type": "markdown",
   "id": "81b405cc",
   "metadata": {
    "papermill": {
     "duration": 0.011563,
     "end_time": "2023-06-21T11:22:36.777805",
     "exception": false,
     "start_time": "2023-06-21T11:22:36.766242",
     "status": "completed"
    },
    "tags": []
   },
   "source": [
    "# Determination of time based average weights"
   ]
  },
  {
   "cell_type": "code",
   "execution_count": 12,
   "id": "0f16f16f",
   "metadata": {
    "execution": {
     "iopub.execute_input": "2023-06-21T11:22:36.802744Z",
     "iopub.status.busy": "2023-06-21T11:22:36.802362Z",
     "iopub.status.idle": "2023-06-21T11:22:36.810498Z",
     "shell.execute_reply": "2023-06-21T11:22:36.809277Z"
    },
    "papermill": {
     "duration": 0.023374,
     "end_time": "2023-06-21T11:22:36.812766",
     "exception": false,
     "start_time": "2023-06-21T11:22:36.789392",
     "status": "completed"
    },
    "tags": []
   },
   "outputs": [],
   "source": [
    "def time_based_weighted_average(dataframe, w1=28, w2=26, w3=24, w4=22):\n",
    "    return dataframe.loc[dataframe[\"day_diff\"] <= dataframe[\"day_diff\"].quantile(0.25), \"overall\"].mean() * w1 / 100 + \\\n",
    "           dataframe.loc[(dataframe[\"day_diff\"] > dataframe[\"day_diff\"].quantile(0.25)) & (dataframe[\"day_diff\"] <= dataframe[\"day_diff\"].quantile(0.50)), \"overall\"].mean() * w2 / 100 + \\\n",
    "           dataframe.loc[(dataframe[\"day_diff\"] > dataframe[\"day_diff\"].quantile(0.50)) & (dataframe[\"day_diff\"] <= dataframe[\"day_diff\"].quantile(0.75)), \"overall\"].mean() * w3 / 100 + \\\n",
    "           dataframe.loc[(dataframe[\"day_diff\"] > dataframe[\"day_diff\"].quantile(0.75)), \"overall\"].mean() * w4 / 100"
   ]
  },
  {
   "cell_type": "code",
   "execution_count": 13,
   "id": "4739e83f",
   "metadata": {
    "execution": {
     "iopub.execute_input": "2023-06-21T11:22:36.838014Z",
     "iopub.status.busy": "2023-06-21T11:22:36.837593Z",
     "iopub.status.idle": "2023-06-21T11:22:36.854935Z",
     "shell.execute_reply": "2023-06-21T11:22:36.853970Z"
    },
    "papermill": {
     "duration": 0.032934,
     "end_time": "2023-06-21T11:22:36.857488",
     "exception": false,
     "start_time": "2023-06-21T11:22:36.824554",
     "status": "completed"
    },
    "tags": []
   },
   "outputs": [
    {
     "data": {
      "text/plain": [
       "4.595593165128118"
      ]
     },
     "execution_count": 13,
     "metadata": {},
     "output_type": "execute_result"
    }
   ],
   "source": [
    "time_based_weighted_average(df, w1=28, w2=26, w3=24, w4=22)"
   ]
  },
  {
   "cell_type": "markdown",
   "id": "a4bdb773",
   "metadata": {
    "papermill": {
     "duration": 0.011542,
     "end_time": "2023-06-21T11:22:36.881032",
     "exception": false,
     "start_time": "2023-06-21T11:22:36.869490",
     "status": "completed"
    },
    "tags": []
   },
   "source": [
    "# Creating the helpful_no Variable"
   ]
  },
  {
   "cell_type": "code",
   "execution_count": 14,
   "id": "0ab0db51",
   "metadata": {
    "execution": {
     "iopub.execute_input": "2023-06-21T11:22:36.908766Z",
     "iopub.status.busy": "2023-06-21T11:22:36.906809Z",
     "iopub.status.idle": "2023-06-21T11:22:36.914496Z",
     "shell.execute_reply": "2023-06-21T11:22:36.913495Z"
    },
    "papermill": {
     "duration": 0.023614,
     "end_time": "2023-06-21T11:22:36.917076",
     "exception": false,
     "start_time": "2023-06-21T11:22:36.893462",
     "status": "completed"
    },
    "tags": []
   },
   "outputs": [],
   "source": [
    "df[\"helpful_no\"] = df[\"total_vote\"] - df[\"helpful_yes\"]"
   ]
  },
  {
   "cell_type": "code",
   "execution_count": 15,
   "id": "b8f1bb62",
   "metadata": {
    "execution": {
     "iopub.execute_input": "2023-06-21T11:22:36.943030Z",
     "iopub.status.busy": "2023-06-21T11:22:36.942651Z",
     "iopub.status.idle": "2023-06-21T11:22:36.952844Z",
     "shell.execute_reply": "2023-06-21T11:22:36.951931Z"
    },
    "papermill": {
     "duration": 0.026026,
     "end_time": "2023-06-21T11:22:36.955228",
     "exception": false,
     "start_time": "2023-06-21T11:22:36.929202",
     "status": "completed"
    },
    "tags": []
   },
   "outputs": [],
   "source": [
    "df = df[[\"reviewerName\", \"overall\", \"summary\", \"helpful_yes\", \"helpful_no\", \"total_vote\", \"reviewTime\"]]"
   ]
  },
  {
   "cell_type": "code",
   "execution_count": 16,
   "id": "c5c4d185",
   "metadata": {
    "execution": {
     "iopub.execute_input": "2023-06-21T11:22:36.981265Z",
     "iopub.status.busy": "2023-06-21T11:22:36.980849Z",
     "iopub.status.idle": "2023-06-21T11:22:36.994310Z",
     "shell.execute_reply": "2023-06-21T11:22:36.993174Z"
    },
    "papermill": {
     "duration": 0.02919,
     "end_time": "2023-06-21T11:22:36.996566",
     "exception": false,
     "start_time": "2023-06-21T11:22:36.967376",
     "status": "completed"
    },
    "tags": []
   },
   "outputs": [
    {
     "data": {
      "text/html": [
       "<div>\n",
       "<style scoped>\n",
       "    .dataframe tbody tr th:only-of-type {\n",
       "        vertical-align: middle;\n",
       "    }\n",
       "\n",
       "    .dataframe tbody tr th {\n",
       "        vertical-align: top;\n",
       "    }\n",
       "\n",
       "    .dataframe thead th {\n",
       "        text-align: right;\n",
       "    }\n",
       "</style>\n",
       "<table border=\"1\" class=\"dataframe\">\n",
       "  <thead>\n",
       "    <tr style=\"text-align: right;\">\n",
       "      <th></th>\n",
       "      <th>reviewerName</th>\n",
       "      <th>overall</th>\n",
       "      <th>summary</th>\n",
       "      <th>helpful_yes</th>\n",
       "      <th>helpful_no</th>\n",
       "      <th>total_vote</th>\n",
       "      <th>reviewTime</th>\n",
       "    </tr>\n",
       "  </thead>\n",
       "  <tbody>\n",
       "    <tr>\n",
       "      <th>0</th>\n",
       "      <td>NaN</td>\n",
       "      <td>4.00000</td>\n",
       "      <td>Four Stars</td>\n",
       "      <td>0</td>\n",
       "      <td>0</td>\n",
       "      <td>0</td>\n",
       "      <td>2014-07-23</td>\n",
       "    </tr>\n",
       "    <tr>\n",
       "      <th>1</th>\n",
       "      <td>0mie</td>\n",
       "      <td>5.00000</td>\n",
       "      <td>MOAR SPACE!!!</td>\n",
       "      <td>0</td>\n",
       "      <td>0</td>\n",
       "      <td>0</td>\n",
       "      <td>2013-10-25</td>\n",
       "    </tr>\n",
       "    <tr>\n",
       "      <th>2</th>\n",
       "      <td>1K3</td>\n",
       "      <td>4.00000</td>\n",
       "      <td>nothing to really say....</td>\n",
       "      <td>0</td>\n",
       "      <td>0</td>\n",
       "      <td>0</td>\n",
       "      <td>2012-12-23</td>\n",
       "    </tr>\n",
       "    <tr>\n",
       "      <th>3</th>\n",
       "      <td>1m2</td>\n",
       "      <td>5.00000</td>\n",
       "      <td>Great buy at this price!!!  *** UPDATE</td>\n",
       "      <td>0</td>\n",
       "      <td>0</td>\n",
       "      <td>0</td>\n",
       "      <td>2013-11-21</td>\n",
       "    </tr>\n",
       "    <tr>\n",
       "      <th>4</th>\n",
       "      <td>2&amp;amp;1/2Men</td>\n",
       "      <td>5.00000</td>\n",
       "      <td>best deal around</td>\n",
       "      <td>0</td>\n",
       "      <td>0</td>\n",
       "      <td>0</td>\n",
       "      <td>2013-07-13</td>\n",
       "    </tr>\n",
       "  </tbody>\n",
       "</table>\n",
       "</div>"
      ],
      "text/plain": [
       "   reviewerName  overall                                 summary  helpful_yes  helpful_no  total_vote  reviewTime\n",
       "0           NaN  4.00000                              Four Stars            0           0           0  2014-07-23\n",
       "1          0mie  5.00000                           MOAR SPACE!!!            0           0           0  2013-10-25\n",
       "2           1K3  4.00000               nothing to really say....            0           0           0  2012-12-23\n",
       "3           1m2  5.00000  Great buy at this price!!!  *** UPDATE            0           0           0  2013-11-21\n",
       "4  2&amp;1/2Men  5.00000                        best deal around            0           0           0  2013-07-13"
      ]
     },
     "execution_count": 16,
     "metadata": {},
     "output_type": "execute_result"
    }
   ],
   "source": [
    "df.head()"
   ]
  },
  {
   "cell_type": "markdown",
   "id": "46169eb2",
   "metadata": {
    "papermill": {
     "duration": 0.011782,
     "end_time": "2023-06-21T11:22:37.020610",
     "exception": false,
     "start_time": "2023-06-21T11:22:37.008828",
     "status": "completed"
    },
    "tags": []
   },
   "source": [
    "# Calculating score_pos_neg_diff, score_average_rating and wilson_lower_bound Scores and Adding to Data Set"
   ]
  },
  {
   "cell_type": "code",
   "execution_count": 17,
   "id": "251a1fd1",
   "metadata": {
    "execution": {
     "iopub.execute_input": "2023-06-21T11:22:37.046791Z",
     "iopub.status.busy": "2023-06-21T11:22:37.046366Z",
     "iopub.status.idle": "2023-06-21T11:22:37.054535Z",
     "shell.execute_reply": "2023-06-21T11:22:37.053370Z"
    },
    "papermill": {
     "duration": 0.024198,
     "end_time": "2023-06-21T11:22:37.056969",
     "exception": false,
     "start_time": "2023-06-21T11:22:37.032771",
     "status": "completed"
    },
    "tags": []
   },
   "outputs": [],
   "source": [
    "def wilson_lower_bound(up, down, confidence=0.95):\n",
    "    \"\"\"\n",
    "     Calculate Wilson Lower Bound Score\n",
    "\n",
    "    - The lower limit of the confidence interval to be calculated for the Bernoulli parameter p is considered as the WLB score.\n",
    "    - The score is used for product ranking.\n",
    "    - Note\n",
    "    If the scores are between 1-5, 1-3 can be marked as negative and 4-5 as positive and can be made Bernoulli compatible.\n",
    "    This brings some problems with it. For this reason, a Bayesian average rating is required.\n",
    "\n",
    "    Parameters\n",
    "    ----------\n",
    "    up: int\n",
    "        up count\n",
    "    down: int\n",
    "        down count\n",
    "    confidence: float\n",
    "        confidence\n",
    "\n",
    "    Returns\n",
    "    -------\n",
    "    wilson score floa\n",
    "\n",
    "    \"\"\"\n",
    "    n = up + down\n",
    "    if n == 0:\n",
    "        return 0\n",
    "    z = st.norm.ppf(1 - (1 - confidence) / 2)\n",
    "    phat = 1.0 * up / n\n",
    "    return (phat + z * z / (2 * n) - z * math.sqrt((phat * (1 - phat) + z * z / (4 * n)) / n)) / (1 + z * z / n)"
   ]
  },
  {
   "cell_type": "code",
   "execution_count": 18,
   "id": "95c176fe",
   "metadata": {
    "execution": {
     "iopub.execute_input": "2023-06-21T11:22:37.083939Z",
     "iopub.status.busy": "2023-06-21T11:22:37.083531Z",
     "iopub.status.idle": "2023-06-21T11:22:37.088487Z",
     "shell.execute_reply": "2023-06-21T11:22:37.087397Z"
    },
    "papermill": {
     "duration": 0.021278,
     "end_time": "2023-06-21T11:22:37.091104",
     "exception": false,
     "start_time": "2023-06-21T11:22:37.069826",
     "status": "completed"
    },
    "tags": []
   },
   "outputs": [],
   "source": [
    "def score_up_down_diff(up, down):\n",
    "    return up - down\n"
   ]
  },
  {
   "cell_type": "code",
   "execution_count": 19,
   "id": "c303d28a",
   "metadata": {
    "execution": {
     "iopub.execute_input": "2023-06-21T11:22:37.118879Z",
     "iopub.status.busy": "2023-06-21T11:22:37.118465Z",
     "iopub.status.idle": "2023-06-21T11:22:37.123759Z",
     "shell.execute_reply": "2023-06-21T11:22:37.122678Z"
    },
    "papermill": {
     "duration": 0.022039,
     "end_time": "2023-06-21T11:22:37.126057",
     "exception": false,
     "start_time": "2023-06-21T11:22:37.104018",
     "status": "completed"
    },
    "tags": []
   },
   "outputs": [],
   "source": [
    "def score_average_rating(up, down):\n",
    "    if up + down == 0:\n",
    "        return 0\n",
    "    return up / (up + down)"
   ]
  },
  {
   "cell_type": "code",
   "execution_count": 20,
   "id": "73a25ee3",
   "metadata": {
    "execution": {
     "iopub.execute_input": "2023-06-21T11:22:37.153171Z",
     "iopub.status.busy": "2023-06-21T11:22:37.152776Z",
     "iopub.status.idle": "2023-06-21T11:22:37.158056Z",
     "shell.execute_reply": "2023-06-21T11:22:37.156964Z"
    },
    "papermill": {
     "duration": 0.02158,
     "end_time": "2023-06-21T11:22:37.160347",
     "exception": false,
     "start_time": "2023-06-21T11:22:37.138767",
     "status": "completed"
    },
    "tags": []
   },
   "outputs": [],
   "source": [
    "def score_average_rating(pos, neg):\n",
    "    if pos + neg == 0:\n",
    "        return 0\n",
    "    return pos / (pos + neg)"
   ]
  },
  {
   "cell_type": "markdown",
   "id": "df0e9105",
   "metadata": {
    "papermill": {
     "duration": 0.012203,
     "end_time": "2023-06-21T11:22:37.185545",
     "exception": false,
     "start_time": "2023-06-21T11:22:37.173342",
     "status": "completed"
    },
    "tags": []
   },
   "source": [
    "# score_pos_neg_diff"
   ]
  },
  {
   "cell_type": "code",
   "execution_count": 21,
   "id": "68f5690e",
   "metadata": {
    "execution": {
     "iopub.execute_input": "2023-06-21T11:22:37.212244Z",
     "iopub.status.busy": "2023-06-21T11:22:37.211839Z",
     "iopub.status.idle": "2023-06-21T11:22:37.307214Z",
     "shell.execute_reply": "2023-06-21T11:22:37.305999Z"
    },
    "papermill": {
     "duration": 0.112169,
     "end_time": "2023-06-21T11:22:37.310163",
     "exception": false,
     "start_time": "2023-06-21T11:22:37.197994",
     "status": "completed"
    },
    "tags": []
   },
   "outputs": [],
   "source": [
    "df[\"score_pos_neg_diff\"] = df.apply(lambda x: score_up_down_diff(x[\"helpful_yes\"], x[\"helpful_no\"]), axis=1)\n"
   ]
  },
  {
   "cell_type": "code",
   "execution_count": 22,
   "id": "3d4eccc3",
   "metadata": {
    "execution": {
     "iopub.execute_input": "2023-06-21T11:22:37.338668Z",
     "iopub.status.busy": "2023-06-21T11:22:37.338275Z",
     "iopub.status.idle": "2023-06-21T11:22:37.356788Z",
     "shell.execute_reply": "2023-06-21T11:22:37.355504Z"
    },
    "papermill": {
     "duration": 0.036438,
     "end_time": "2023-06-21T11:22:37.359505",
     "exception": false,
     "start_time": "2023-06-21T11:22:37.323067",
     "status": "completed"
    },
    "tags": []
   },
   "outputs": [
    {
     "data": {
      "text/html": [
       "<div>\n",
       "<style scoped>\n",
       "    .dataframe tbody tr th:only-of-type {\n",
       "        vertical-align: middle;\n",
       "    }\n",
       "\n",
       "    .dataframe tbody tr th {\n",
       "        vertical-align: top;\n",
       "    }\n",
       "\n",
       "    .dataframe thead th {\n",
       "        text-align: right;\n",
       "    }\n",
       "</style>\n",
       "<table border=\"1\" class=\"dataframe\">\n",
       "  <thead>\n",
       "    <tr style=\"text-align: right;\">\n",
       "      <th></th>\n",
       "      <th>reviewerName</th>\n",
       "      <th>overall</th>\n",
       "      <th>summary</th>\n",
       "      <th>helpful_yes</th>\n",
       "      <th>helpful_no</th>\n",
       "      <th>total_vote</th>\n",
       "      <th>reviewTime</th>\n",
       "      <th>score_pos_neg_diff</th>\n",
       "    </tr>\n",
       "  </thead>\n",
       "  <tbody>\n",
       "    <tr>\n",
       "      <th>2031</th>\n",
       "      <td>Hyoun Kim \"Faluzure\"</td>\n",
       "      <td>5.00000</td>\n",
       "      <td>UPDATED - Great w/ Galaxy S4 &amp; Galaxy Tab 4 10...</td>\n",
       "      <td>1952</td>\n",
       "      <td>68</td>\n",
       "      <td>2020</td>\n",
       "      <td>2013-01-05</td>\n",
       "      <td>1884</td>\n",
       "    </tr>\n",
       "    <tr>\n",
       "      <th>4212</th>\n",
       "      <td>SkincareCEO</td>\n",
       "      <td>1.00000</td>\n",
       "      <td>1 Star reviews - Micro SDXC card unmounts itse...</td>\n",
       "      <td>1568</td>\n",
       "      <td>126</td>\n",
       "      <td>1694</td>\n",
       "      <td>2013-05-08</td>\n",
       "      <td>1442</td>\n",
       "    </tr>\n",
       "    <tr>\n",
       "      <th>3449</th>\n",
       "      <td>NLee the Engineer</td>\n",
       "      <td>5.00000</td>\n",
       "      <td>Top of the class among all (budget-priced) mic...</td>\n",
       "      <td>1428</td>\n",
       "      <td>77</td>\n",
       "      <td>1505</td>\n",
       "      <td>2012-09-26</td>\n",
       "      <td>1351</td>\n",
       "    </tr>\n",
       "    <tr>\n",
       "      <th>317</th>\n",
       "      <td>Amazon Customer \"Kelly\"</td>\n",
       "      <td>1.00000</td>\n",
       "      <td>Warning, read this!</td>\n",
       "      <td>422</td>\n",
       "      <td>73</td>\n",
       "      <td>495</td>\n",
       "      <td>2012-02-09</td>\n",
       "      <td>349</td>\n",
       "    </tr>\n",
       "    <tr>\n",
       "      <th>3981</th>\n",
       "      <td>R. Sutton, Jr. \"RWSynergy\"</td>\n",
       "      <td>5.00000</td>\n",
       "      <td>Resolving confusion between \"Mobile Ultra\" and...</td>\n",
       "      <td>112</td>\n",
       "      <td>27</td>\n",
       "      <td>139</td>\n",
       "      <td>2012-10-22</td>\n",
       "      <td>85</td>\n",
       "    </tr>\n",
       "    <tr>\n",
       "      <th>4596</th>\n",
       "      <td>Tom Henriksen \"Doggy Diner\"</td>\n",
       "      <td>1.00000</td>\n",
       "      <td>Designed incompatibility/Don't support SanDisk</td>\n",
       "      <td>82</td>\n",
       "      <td>27</td>\n",
       "      <td>109</td>\n",
       "      <td>2012-09-22</td>\n",
       "      <td>55</td>\n",
       "    </tr>\n",
       "    <tr>\n",
       "      <th>1835</th>\n",
       "      <td>goconfigure</td>\n",
       "      <td>5.00000</td>\n",
       "      <td>I own it</td>\n",
       "      <td>60</td>\n",
       "      <td>8</td>\n",
       "      <td>68</td>\n",
       "      <td>2014-02-28</td>\n",
       "      <td>52</td>\n",
       "    </tr>\n",
       "    <tr>\n",
       "      <th>4672</th>\n",
       "      <td>Twister</td>\n",
       "      <td>5.00000</td>\n",
       "      <td>Super high capacity!!!  Excellent price (on Am...</td>\n",
       "      <td>45</td>\n",
       "      <td>4</td>\n",
       "      <td>49</td>\n",
       "      <td>2014-07-03</td>\n",
       "      <td>41</td>\n",
       "    </tr>\n",
       "    <tr>\n",
       "      <th>4306</th>\n",
       "      <td>Stellar Eller</td>\n",
       "      <td>5.00000</td>\n",
       "      <td>Awesome Card!</td>\n",
       "      <td>51</td>\n",
       "      <td>14</td>\n",
       "      <td>65</td>\n",
       "      <td>2012-09-06</td>\n",
       "      <td>37</td>\n",
       "    </tr>\n",
       "    <tr>\n",
       "      <th>315</th>\n",
       "      <td>Amazon Customer \"johncrea\"</td>\n",
       "      <td>5.00000</td>\n",
       "      <td>Samsung Galaxy Tab2 works with this card if re...</td>\n",
       "      <td>38</td>\n",
       "      <td>10</td>\n",
       "      <td>48</td>\n",
       "      <td>2012-08-13</td>\n",
       "      <td>28</td>\n",
       "    </tr>\n",
       "    <tr>\n",
       "      <th>3807</th>\n",
       "      <td>R. Heisler</td>\n",
       "      <td>3.00000</td>\n",
       "      <td>Good buy for the money but wait, I had an issue!</td>\n",
       "      <td>22</td>\n",
       "      <td>3</td>\n",
       "      <td>25</td>\n",
       "      <td>2013-02-27</td>\n",
       "      <td>19</td>\n",
       "    </tr>\n",
       "    <tr>\n",
       "      <th>4302</th>\n",
       "      <td>Stayeraug</td>\n",
       "      <td>5.00000</td>\n",
       "      <td>Perfect with GoPro Black 3+</td>\n",
       "      <td>14</td>\n",
       "      <td>2</td>\n",
       "      <td>16</td>\n",
       "      <td>2014-03-21</td>\n",
       "      <td>12</td>\n",
       "    </tr>\n",
       "    <tr>\n",
       "      <th>93</th>\n",
       "      <td>Airedad</td>\n",
       "      <td>5.00000</td>\n",
       "      <td>Very fast class 10 card - and excellent servic...</td>\n",
       "      <td>15</td>\n",
       "      <td>6</td>\n",
       "      <td>21</td>\n",
       "      <td>2012-07-25</td>\n",
       "      <td>9</td>\n",
       "    </tr>\n",
       "    <tr>\n",
       "      <th>1609</th>\n",
       "      <td>Eskimo</td>\n",
       "      <td>5.00000</td>\n",
       "      <td>Bet you wish you had one of these</td>\n",
       "      <td>7</td>\n",
       "      <td>0</td>\n",
       "      <td>7</td>\n",
       "      <td>2014-03-26</td>\n",
       "      <td>7</td>\n",
       "    </tr>\n",
       "    <tr>\n",
       "      <th>1465</th>\n",
       "      <td>D. Stein</td>\n",
       "      <td>4.00000</td>\n",
       "      <td>Finally.</td>\n",
       "      <td>7</td>\n",
       "      <td>0</td>\n",
       "      <td>7</td>\n",
       "      <td>2014-04-14</td>\n",
       "      <td>7</td>\n",
       "    </tr>\n",
       "    <tr>\n",
       "      <th>4072</th>\n",
       "      <td>sb21 \"sb21\"</td>\n",
       "      <td>5.00000</td>\n",
       "      <td>Used for my Samsung Galaxy Tab 2 7.0</td>\n",
       "      <td>6</td>\n",
       "      <td>0</td>\n",
       "      <td>6</td>\n",
       "      <td>2012-11-09</td>\n",
       "      <td>6</td>\n",
       "    </tr>\n",
       "    <tr>\n",
       "      <th>2268</th>\n",
       "      <td>Jerry Saperstein</td>\n",
       "      <td>5.00000</td>\n",
       "      <td>Incredible simply incredible.</td>\n",
       "      <td>8</td>\n",
       "      <td>2</td>\n",
       "      <td>10</td>\n",
       "      <td>2014-03-17</td>\n",
       "      <td>6</td>\n",
       "    </tr>\n",
       "    <tr>\n",
       "      <th>121</th>\n",
       "      <td>A. Lee</td>\n",
       "      <td>5.00000</td>\n",
       "      <td>ready for use on the Galaxy S3</td>\n",
       "      <td>5</td>\n",
       "      <td>0</td>\n",
       "      <td>5</td>\n",
       "      <td>2012-05-09</td>\n",
       "      <td>5</td>\n",
       "    </tr>\n",
       "    <tr>\n",
       "      <th>323</th>\n",
       "      <td>Amazon Customer \"Milo\"</td>\n",
       "      <td>5.00000</td>\n",
       "      <td>Working fine in my Note 3</td>\n",
       "      <td>6</td>\n",
       "      <td>1</td>\n",
       "      <td>7</td>\n",
       "      <td>2014-01-04</td>\n",
       "      <td>5</td>\n",
       "    </tr>\n",
       "    <tr>\n",
       "      <th>2695</th>\n",
       "      <td>kinematic</td>\n",
       "      <td>5.00000</td>\n",
       "      <td>Works in Samsung Galaxy Tab 2 10.1 after forma...</td>\n",
       "      <td>6</td>\n",
       "      <td>1</td>\n",
       "      <td>7</td>\n",
       "      <td>2012-08-09</td>\n",
       "      <td>5</td>\n",
       "    </tr>\n",
       "  </tbody>\n",
       "</table>\n",
       "</div>"
      ],
      "text/plain": [
       "                     reviewerName  overall                                            summary  helpful_yes  helpful_no  total_vote  reviewTime  score_pos_neg_diff\n",
       "2031         Hyoun Kim \"Faluzure\"  5.00000  UPDATED - Great w/ Galaxy S4 & Galaxy Tab 4 10...         1952          68        2020  2013-01-05                1884\n",
       "4212                  SkincareCEO  1.00000  1 Star reviews - Micro SDXC card unmounts itse...         1568         126        1694  2013-05-08                1442\n",
       "3449            NLee the Engineer  5.00000  Top of the class among all (budget-priced) mic...         1428          77        1505  2012-09-26                1351\n",
       "317       Amazon Customer \"Kelly\"  1.00000                                Warning, read this!          422          73         495  2012-02-09                 349\n",
       "3981   R. Sutton, Jr. \"RWSynergy\"  5.00000  Resolving confusion between \"Mobile Ultra\" and...          112          27         139  2012-10-22                  85\n",
       "4596  Tom Henriksen \"Doggy Diner\"  1.00000     Designed incompatibility/Don't support SanDisk           82          27         109  2012-09-22                  55\n",
       "1835                  goconfigure  5.00000                                           I own it           60           8          68  2014-02-28                  52\n",
       "4672                      Twister  5.00000  Super high capacity!!!  Excellent price (on Am...           45           4          49  2014-07-03                  41\n",
       "4306                Stellar Eller  5.00000                                      Awesome Card!           51          14          65  2012-09-06                  37\n",
       "315    Amazon Customer \"johncrea\"  5.00000  Samsung Galaxy Tab2 works with this card if re...           38          10          48  2012-08-13                  28\n",
       "3807                   R. Heisler  3.00000   Good buy for the money but wait, I had an issue!           22           3          25  2013-02-27                  19\n",
       "4302                    Stayeraug  5.00000                        Perfect with GoPro Black 3+           14           2          16  2014-03-21                  12\n",
       "93                        Airedad  5.00000  Very fast class 10 card - and excellent servic...           15           6          21  2012-07-25                   9\n",
       "1609                       Eskimo  5.00000                  Bet you wish you had one of these            7           0           7  2014-03-26                   7\n",
       "1465                     D. Stein  4.00000                                           Finally.            7           0           7  2014-04-14                   7\n",
       "4072                  sb21 \"sb21\"  5.00000               Used for my Samsung Galaxy Tab 2 7.0            6           0           6  2012-11-09                   6\n",
       "2268             Jerry Saperstein  5.00000                      Incredible simply incredible.            8           2          10  2014-03-17                   6\n",
       "121                        A. Lee  5.00000                     ready for use on the Galaxy S3            5           0           5  2012-05-09                   5\n",
       "323        Amazon Customer \"Milo\"  5.00000                          Working fine in my Note 3            6           1           7  2014-01-04                   5\n",
       "2695                    kinematic  5.00000  Works in Samsung Galaxy Tab 2 10.1 after forma...            6           1           7  2012-08-09                   5"
      ]
     },
     "execution_count": 22,
     "metadata": {},
     "output_type": "execute_result"
    }
   ],
   "source": [
    "df.sort_values(\"score_pos_neg_diff\", ascending=False).head(20)"
   ]
  },
  {
   "cell_type": "markdown",
   "id": "dd8e3b2f",
   "metadata": {
    "papermill": {
     "duration": 0.012251,
     "end_time": "2023-06-21T11:22:37.384548",
     "exception": false,
     "start_time": "2023-06-21T11:22:37.372297",
     "status": "completed"
    },
    "tags": []
   },
   "source": [
    "# score_average_rating"
   ]
  },
  {
   "cell_type": "code",
   "execution_count": 23,
   "id": "09ca44f5",
   "metadata": {
    "execution": {
     "iopub.execute_input": "2023-06-21T11:22:37.412069Z",
     "iopub.status.busy": "2023-06-21T11:22:37.411680Z",
     "iopub.status.idle": "2023-06-21T11:22:37.507953Z",
     "shell.execute_reply": "2023-06-21T11:22:37.506675Z"
    },
    "papermill": {
     "duration": 0.114019,
     "end_time": "2023-06-21T11:22:37.511299",
     "exception": false,
     "start_time": "2023-06-21T11:22:37.397280",
     "status": "completed"
    },
    "tags": []
   },
   "outputs": [],
   "source": [
    "df[\"score_average_rating\"] = df.apply(lambda x: score_average_rating(x[\"helpful_yes\"], x[\"helpful_no\"]), axis=1)\n"
   ]
  },
  {
   "cell_type": "code",
   "execution_count": 24,
   "id": "1dff4b88",
   "metadata": {
    "execution": {
     "iopub.execute_input": "2023-06-21T11:22:37.538902Z",
     "iopub.status.busy": "2023-06-21T11:22:37.538505Z",
     "iopub.status.idle": "2023-06-21T11:22:37.557991Z",
     "shell.execute_reply": "2023-06-21T11:22:37.556989Z"
    },
    "papermill": {
     "duration": 0.036075,
     "end_time": "2023-06-21T11:22:37.560320",
     "exception": false,
     "start_time": "2023-06-21T11:22:37.524245",
     "status": "completed"
    },
    "tags": []
   },
   "outputs": [
    {
     "data": {
      "text/html": [
       "<div>\n",
       "<style scoped>\n",
       "    .dataframe tbody tr th:only-of-type {\n",
       "        vertical-align: middle;\n",
       "    }\n",
       "\n",
       "    .dataframe tbody tr th {\n",
       "        vertical-align: top;\n",
       "    }\n",
       "\n",
       "    .dataframe thead th {\n",
       "        text-align: right;\n",
       "    }\n",
       "</style>\n",
       "<table border=\"1\" class=\"dataframe\">\n",
       "  <thead>\n",
       "    <tr style=\"text-align: right;\">\n",
       "      <th></th>\n",
       "      <th>reviewerName</th>\n",
       "      <th>overall</th>\n",
       "      <th>summary</th>\n",
       "      <th>helpful_yes</th>\n",
       "      <th>helpful_no</th>\n",
       "      <th>total_vote</th>\n",
       "      <th>reviewTime</th>\n",
       "      <th>score_pos_neg_diff</th>\n",
       "      <th>score_average_rating</th>\n",
       "    </tr>\n",
       "  </thead>\n",
       "  <tbody>\n",
       "    <tr>\n",
       "      <th>4277</th>\n",
       "      <td>S. Q.</td>\n",
       "      <td>5.00000</td>\n",
       "      <td>Perfect!!</td>\n",
       "      <td>1</td>\n",
       "      <td>0</td>\n",
       "      <td>1</td>\n",
       "      <td>2012-12-19</td>\n",
       "      <td>1</td>\n",
       "      <td>1.00000</td>\n",
       "    </tr>\n",
       "    <tr>\n",
       "      <th>2881</th>\n",
       "      <td>Lou Thomas</td>\n",
       "      <td>5.00000</td>\n",
       "      <td>Nexus One Loves This Card!</td>\n",
       "      <td>1</td>\n",
       "      <td>0</td>\n",
       "      <td>1</td>\n",
       "      <td>2012-01-10</td>\n",
       "      <td>1</td>\n",
       "      <td>1.00000</td>\n",
       "    </tr>\n",
       "    <tr>\n",
       "      <th>1073</th>\n",
       "      <td>C. Sanchez</td>\n",
       "      <td>5.00000</td>\n",
       "      <td>Tons of space for phone</td>\n",
       "      <td>1</td>\n",
       "      <td>0</td>\n",
       "      <td>1</td>\n",
       "      <td>2013-08-13</td>\n",
       "      <td>1</td>\n",
       "      <td>1.00000</td>\n",
       "    </tr>\n",
       "    <tr>\n",
       "      <th>445</th>\n",
       "      <td>Apache \"Elizabeth\"</td>\n",
       "      <td>4.00000</td>\n",
       "      <td>Amazon Great Prices</td>\n",
       "      <td>1</td>\n",
       "      <td>0</td>\n",
       "      <td>1</td>\n",
       "      <td>2013-12-18</td>\n",
       "      <td>1</td>\n",
       "      <td>1.00000</td>\n",
       "    </tr>\n",
       "    <tr>\n",
       "      <th>3923</th>\n",
       "      <td>Rock Your Roots</td>\n",
       "      <td>5.00000</td>\n",
       "      <td>What more to say?</td>\n",
       "      <td>1</td>\n",
       "      <td>0</td>\n",
       "      <td>1</td>\n",
       "      <td>2013-12-30</td>\n",
       "      <td>1</td>\n",
       "      <td>1.00000</td>\n",
       "    </tr>\n",
       "    <tr>\n",
       "      <th>435</th>\n",
       "      <td>Anthony L cate</td>\n",
       "      <td>5.00000</td>\n",
       "      <td>Love the extra storage</td>\n",
       "      <td>1</td>\n",
       "      <td>0</td>\n",
       "      <td>1</td>\n",
       "      <td>2012-07-24</td>\n",
       "      <td>1</td>\n",
       "      <td>1.00000</td>\n",
       "    </tr>\n",
       "    <tr>\n",
       "      <th>2901</th>\n",
       "      <td>luis</td>\n",
       "      <td>5.00000</td>\n",
       "      <td>Awesome and fast  card :)</td>\n",
       "      <td>1</td>\n",
       "      <td>0</td>\n",
       "      <td>1</td>\n",
       "      <td>2013-05-13</td>\n",
       "      <td>1</td>\n",
       "      <td>1.00000</td>\n",
       "    </tr>\n",
       "    <tr>\n",
       "      <th>2204</th>\n",
       "      <td>jbwam \"jbwam\"</td>\n",
       "      <td>2.00000</td>\n",
       "      <td>Sandisk will replace failures due to bad batch...</td>\n",
       "      <td>1</td>\n",
       "      <td>0</td>\n",
       "      <td>1</td>\n",
       "      <td>2013-06-14</td>\n",
       "      <td>1</td>\n",
       "      <td>1.00000</td>\n",
       "    </tr>\n",
       "    <tr>\n",
       "      <th>2206</th>\n",
       "      <td>JCBiker</td>\n",
       "      <td>5.00000</td>\n",
       "      <td>Great card</td>\n",
       "      <td>1</td>\n",
       "      <td>0</td>\n",
       "      <td>1</td>\n",
       "      <td>2013-10-31</td>\n",
       "      <td>1</td>\n",
       "      <td>1.00000</td>\n",
       "    </tr>\n",
       "    <tr>\n",
       "      <th>3408</th>\n",
       "      <td>Neng Vang \"Neng2012\"</td>\n",
       "      <td>5.00000</td>\n",
       "      <td>working no problem</td>\n",
       "      <td>1</td>\n",
       "      <td>0</td>\n",
       "      <td>1</td>\n",
       "      <td>2013-07-25</td>\n",
       "      <td>1</td>\n",
       "      <td>1.00000</td>\n",
       "    </tr>\n",
       "    <tr>\n",
       "      <th>4538</th>\n",
       "      <td>Tim ha</td>\n",
       "      <td>4.00000</td>\n",
       "      <td>Decent speed for the card this size</td>\n",
       "      <td>1</td>\n",
       "      <td>0</td>\n",
       "      <td>1</td>\n",
       "      <td>2014-04-25</td>\n",
       "      <td>1</td>\n",
       "      <td>1.00000</td>\n",
       "    </tr>\n",
       "    <tr>\n",
       "      <th>1097</th>\n",
       "      <td>Cyrus C. Cha \"moss\"</td>\n",
       "      <td>4.00000</td>\n",
       "      <td>More space for Note 3</td>\n",
       "      <td>1</td>\n",
       "      <td>0</td>\n",
       "      <td>1</td>\n",
       "      <td>2013-10-14</td>\n",
       "      <td>1</td>\n",
       "      <td>1.00000</td>\n",
       "    </tr>\n",
       "    <tr>\n",
       "      <th>2885</th>\n",
       "      <td>L. P. Nugaliyadda \"Pramod\"</td>\n",
       "      <td>5.00000</td>\n",
       "      <td>Excellent!</td>\n",
       "      <td>1</td>\n",
       "      <td>0</td>\n",
       "      <td>1</td>\n",
       "      <td>2014-03-21</td>\n",
       "      <td>1</td>\n",
       "      <td>1.00000</td>\n",
       "    </tr>\n",
       "    <tr>\n",
       "      <th>3418</th>\n",
       "      <td>Ni'anhel Moore</td>\n",
       "      <td>5.00000</td>\n",
       "      <td>Works Great</td>\n",
       "      <td>1</td>\n",
       "      <td>0</td>\n",
       "      <td>1</td>\n",
       "      <td>2013-12-31</td>\n",
       "      <td>1</td>\n",
       "      <td>1.00000</td>\n",
       "    </tr>\n",
       "    <tr>\n",
       "      <th>4554</th>\n",
       "      <td>Tinfoot</td>\n",
       "      <td>5.00000</td>\n",
       "      <td>PSP 3000</td>\n",
       "      <td>1</td>\n",
       "      <td>0</td>\n",
       "      <td>1</td>\n",
       "      <td>2014-08-02</td>\n",
       "      <td>1</td>\n",
       "      <td>1.00000</td>\n",
       "    </tr>\n",
       "    <tr>\n",
       "      <th>1609</th>\n",
       "      <td>Eskimo</td>\n",
       "      <td>5.00000</td>\n",
       "      <td>Bet you wish you had one of these</td>\n",
       "      <td>7</td>\n",
       "      <td>0</td>\n",
       "      <td>7</td>\n",
       "      <td>2014-03-26</td>\n",
       "      <td>7</td>\n",
       "      <td>1.00000</td>\n",
       "    </tr>\n",
       "    <tr>\n",
       "      <th>402</th>\n",
       "      <td>Andrew R. Seiler \"bookfish\"</td>\n",
       "      <td>5.00000</td>\n",
       "      <td>great, works well with galaxy s3</td>\n",
       "      <td>1</td>\n",
       "      <td>0</td>\n",
       "      <td>1</td>\n",
       "      <td>2012-09-25</td>\n",
       "      <td>1</td>\n",
       "      <td>1.00000</td>\n",
       "    </tr>\n",
       "    <tr>\n",
       "      <th>2226</th>\n",
       "      <td>JEFE</td>\n",
       "      <td>5.00000</td>\n",
       "      <td>great memory</td>\n",
       "      <td>1</td>\n",
       "      <td>0</td>\n",
       "      <td>1</td>\n",
       "      <td>2014-06-16</td>\n",
       "      <td>1</td>\n",
       "      <td>1.00000</td>\n",
       "    </tr>\n",
       "    <tr>\n",
       "      <th>3901</th>\n",
       "      <td>Roberto K. Cho \"chorobe\"</td>\n",
       "      <td>4.00000</td>\n",
       "      <td>Good while it lasted! BUT good customer support!</td>\n",
       "      <td>1</td>\n",
       "      <td>0</td>\n",
       "      <td>1</td>\n",
       "      <td>2013-03-20</td>\n",
       "      <td>1</td>\n",
       "      <td>1.00000</td>\n",
       "    </tr>\n",
       "    <tr>\n",
       "      <th>3897</th>\n",
       "      <td>Robert K. Harvey \"BobH\"</td>\n",
       "      <td>2.00000</td>\n",
       "      <td>Poor write speed</td>\n",
       "      <td>1</td>\n",
       "      <td>0</td>\n",
       "      <td>1</td>\n",
       "      <td>2013-11-27</td>\n",
       "      <td>1</td>\n",
       "      <td>1.00000</td>\n",
       "    </tr>\n",
       "  </tbody>\n",
       "</table>\n",
       "</div>"
      ],
      "text/plain": [
       "                     reviewerName  overall                                            summary  helpful_yes  helpful_no  total_vote  reviewTime  score_pos_neg_diff  score_average_rating\n",
       "4277                        S. Q.  5.00000                                          Perfect!!            1           0           1  2012-12-19                   1               1.00000\n",
       "2881                   Lou Thomas  5.00000                         Nexus One Loves This Card!            1           0           1  2012-01-10                   1               1.00000\n",
       "1073                   C. Sanchez  5.00000                            Tons of space for phone            1           0           1  2013-08-13                   1               1.00000\n",
       "445            Apache \"Elizabeth\"  4.00000                                Amazon Great Prices            1           0           1  2013-12-18                   1               1.00000\n",
       "3923              Rock Your Roots  5.00000                                  What more to say?            1           0           1  2013-12-30                   1               1.00000\n",
       "435                Anthony L cate  5.00000                             Love the extra storage            1           0           1  2012-07-24                   1               1.00000\n",
       "2901                         luis  5.00000                          Awesome and fast  card :)            1           0           1  2013-05-13                   1               1.00000\n",
       "2204                jbwam \"jbwam\"  2.00000  Sandisk will replace failures due to bad batch...            1           0           1  2013-06-14                   1               1.00000\n",
       "2206                      JCBiker  5.00000                                         Great card            1           0           1  2013-10-31                   1               1.00000\n",
       "3408         Neng Vang \"Neng2012\"  5.00000                                 working no problem            1           0           1  2013-07-25                   1               1.00000\n",
       "4538                       Tim ha  4.00000                Decent speed for the card this size            1           0           1  2014-04-25                   1               1.00000\n",
       "1097          Cyrus C. Cha \"moss\"  4.00000                              More space for Note 3            1           0           1  2013-10-14                   1               1.00000\n",
       "2885   L. P. Nugaliyadda \"Pramod\"  5.00000                                         Excellent!            1           0           1  2014-03-21                   1               1.00000\n",
       "3418               Ni'anhel Moore  5.00000                                        Works Great            1           0           1  2013-12-31                   1               1.00000\n",
       "4554                      Tinfoot  5.00000                                           PSP 3000            1           0           1  2014-08-02                   1               1.00000\n",
       "1609                       Eskimo  5.00000                  Bet you wish you had one of these            7           0           7  2014-03-26                   7               1.00000\n",
       "402   Andrew R. Seiler \"bookfish\"  5.00000                   great, works well with galaxy s3            1           0           1  2012-09-25                   1               1.00000\n",
       "2226                         JEFE  5.00000                                       great memory            1           0           1  2014-06-16                   1               1.00000\n",
       "3901     Roberto K. Cho \"chorobe\"  4.00000   Good while it lasted! BUT good customer support!            1           0           1  2013-03-20                   1               1.00000\n",
       "3897      Robert K. Harvey \"BobH\"  2.00000                                   Poor write speed            1           0           1  2013-11-27                   1               1.00000"
      ]
     },
     "execution_count": 24,
     "metadata": {},
     "output_type": "execute_result"
    }
   ],
   "source": [
    "df.sort_values(\"score_average_rating\", ascending=False).head(20)"
   ]
  },
  {
   "cell_type": "markdown",
   "id": "4014150e",
   "metadata": {
    "papermill": {
     "duration": 0.012881,
     "end_time": "2023-06-21T11:22:37.586918",
     "exception": false,
     "start_time": "2023-06-21T11:22:37.574037",
     "status": "completed"
    },
    "tags": []
   },
   "source": [
    "# wilson_lower_bound"
   ]
  },
  {
   "cell_type": "code",
   "execution_count": 25,
   "id": "d482a6e5",
   "metadata": {
    "execution": {
     "iopub.execute_input": "2023-06-21T11:22:37.615800Z",
     "iopub.status.busy": "2023-06-21T11:22:37.615398Z",
     "iopub.status.idle": "2023-06-21T11:22:37.823211Z",
     "shell.execute_reply": "2023-06-21T11:22:37.821916Z"
    },
    "papermill": {
     "duration": 0.226036,
     "end_time": "2023-06-21T11:22:37.826210",
     "exception": false,
     "start_time": "2023-06-21T11:22:37.600174",
     "status": "completed"
    },
    "tags": []
   },
   "outputs": [],
   "source": [
    "df[\"wilson_lower_bound\"] = df.apply(lambda x: wilson_lower_bound(x[\"helpful_yes\"], x[\"helpful_no\"]), axis=1)\n"
   ]
  },
  {
   "cell_type": "code",
   "execution_count": 26,
   "id": "98aa314b",
   "metadata": {
    "execution": {
     "iopub.execute_input": "2023-06-21T11:22:37.855166Z",
     "iopub.status.busy": "2023-06-21T11:22:37.854802Z",
     "iopub.status.idle": "2023-06-21T11:22:37.875745Z",
     "shell.execute_reply": "2023-06-21T11:22:37.874594Z"
    },
    "papermill": {
     "duration": 0.038378,
     "end_time": "2023-06-21T11:22:37.878320",
     "exception": false,
     "start_time": "2023-06-21T11:22:37.839942",
     "status": "completed"
    },
    "tags": []
   },
   "outputs": [
    {
     "data": {
      "text/html": [
       "<div>\n",
       "<style scoped>\n",
       "    .dataframe tbody tr th:only-of-type {\n",
       "        vertical-align: middle;\n",
       "    }\n",
       "\n",
       "    .dataframe tbody tr th {\n",
       "        vertical-align: top;\n",
       "    }\n",
       "\n",
       "    .dataframe thead th {\n",
       "        text-align: right;\n",
       "    }\n",
       "</style>\n",
       "<table border=\"1\" class=\"dataframe\">\n",
       "  <thead>\n",
       "    <tr style=\"text-align: right;\">\n",
       "      <th></th>\n",
       "      <th>reviewerName</th>\n",
       "      <th>overall</th>\n",
       "      <th>summary</th>\n",
       "      <th>helpful_yes</th>\n",
       "      <th>helpful_no</th>\n",
       "      <th>total_vote</th>\n",
       "      <th>reviewTime</th>\n",
       "      <th>score_pos_neg_diff</th>\n",
       "      <th>score_average_rating</th>\n",
       "      <th>wilson_lower_bound</th>\n",
       "    </tr>\n",
       "  </thead>\n",
       "  <tbody>\n",
       "    <tr>\n",
       "      <th>2031</th>\n",
       "      <td>Hyoun Kim \"Faluzure\"</td>\n",
       "      <td>5.00000</td>\n",
       "      <td>UPDATED - Great w/ Galaxy S4 &amp; Galaxy Tab 4 10...</td>\n",
       "      <td>1952</td>\n",
       "      <td>68</td>\n",
       "      <td>2020</td>\n",
       "      <td>2013-01-05</td>\n",
       "      <td>1884</td>\n",
       "      <td>0.96634</td>\n",
       "      <td>0.95754</td>\n",
       "    </tr>\n",
       "    <tr>\n",
       "      <th>3449</th>\n",
       "      <td>NLee the Engineer</td>\n",
       "      <td>5.00000</td>\n",
       "      <td>Top of the class among all (budget-priced) mic...</td>\n",
       "      <td>1428</td>\n",
       "      <td>77</td>\n",
       "      <td>1505</td>\n",
       "      <td>2012-09-26</td>\n",
       "      <td>1351</td>\n",
       "      <td>0.94884</td>\n",
       "      <td>0.93652</td>\n",
       "    </tr>\n",
       "    <tr>\n",
       "      <th>4212</th>\n",
       "      <td>SkincareCEO</td>\n",
       "      <td>1.00000</td>\n",
       "      <td>1 Star reviews - Micro SDXC card unmounts itse...</td>\n",
       "      <td>1568</td>\n",
       "      <td>126</td>\n",
       "      <td>1694</td>\n",
       "      <td>2013-05-08</td>\n",
       "      <td>1442</td>\n",
       "      <td>0.92562</td>\n",
       "      <td>0.91214</td>\n",
       "    </tr>\n",
       "    <tr>\n",
       "      <th>317</th>\n",
       "      <td>Amazon Customer \"Kelly\"</td>\n",
       "      <td>1.00000</td>\n",
       "      <td>Warning, read this!</td>\n",
       "      <td>422</td>\n",
       "      <td>73</td>\n",
       "      <td>495</td>\n",
       "      <td>2012-02-09</td>\n",
       "      <td>349</td>\n",
       "      <td>0.85253</td>\n",
       "      <td>0.81858</td>\n",
       "    </tr>\n",
       "    <tr>\n",
       "      <th>4672</th>\n",
       "      <td>Twister</td>\n",
       "      <td>5.00000</td>\n",
       "      <td>Super high capacity!!!  Excellent price (on Am...</td>\n",
       "      <td>45</td>\n",
       "      <td>4</td>\n",
       "      <td>49</td>\n",
       "      <td>2014-07-03</td>\n",
       "      <td>41</td>\n",
       "      <td>0.91837</td>\n",
       "      <td>0.80811</td>\n",
       "    </tr>\n",
       "    <tr>\n",
       "      <th>1835</th>\n",
       "      <td>goconfigure</td>\n",
       "      <td>5.00000</td>\n",
       "      <td>I own it</td>\n",
       "      <td>60</td>\n",
       "      <td>8</td>\n",
       "      <td>68</td>\n",
       "      <td>2014-02-28</td>\n",
       "      <td>52</td>\n",
       "      <td>0.88235</td>\n",
       "      <td>0.78465</td>\n",
       "    </tr>\n",
       "    <tr>\n",
       "      <th>3981</th>\n",
       "      <td>R. Sutton, Jr. \"RWSynergy\"</td>\n",
       "      <td>5.00000</td>\n",
       "      <td>Resolving confusion between \"Mobile Ultra\" and...</td>\n",
       "      <td>112</td>\n",
       "      <td>27</td>\n",
       "      <td>139</td>\n",
       "      <td>2012-10-22</td>\n",
       "      <td>85</td>\n",
       "      <td>0.80576</td>\n",
       "      <td>0.73214</td>\n",
       "    </tr>\n",
       "    <tr>\n",
       "      <th>3807</th>\n",
       "      <td>R. Heisler</td>\n",
       "      <td>3.00000</td>\n",
       "      <td>Good buy for the money but wait, I had an issue!</td>\n",
       "      <td>22</td>\n",
       "      <td>3</td>\n",
       "      <td>25</td>\n",
       "      <td>2013-02-27</td>\n",
       "      <td>19</td>\n",
       "      <td>0.88000</td>\n",
       "      <td>0.70044</td>\n",
       "    </tr>\n",
       "    <tr>\n",
       "      <th>4306</th>\n",
       "      <td>Stellar Eller</td>\n",
       "      <td>5.00000</td>\n",
       "      <td>Awesome Card!</td>\n",
       "      <td>51</td>\n",
       "      <td>14</td>\n",
       "      <td>65</td>\n",
       "      <td>2012-09-06</td>\n",
       "      <td>37</td>\n",
       "      <td>0.78462</td>\n",
       "      <td>0.67033</td>\n",
       "    </tr>\n",
       "    <tr>\n",
       "      <th>4596</th>\n",
       "      <td>Tom Henriksen \"Doggy Diner\"</td>\n",
       "      <td>1.00000</td>\n",
       "      <td>Designed incompatibility/Don't support SanDisk</td>\n",
       "      <td>82</td>\n",
       "      <td>27</td>\n",
       "      <td>109</td>\n",
       "      <td>2012-09-22</td>\n",
       "      <td>55</td>\n",
       "      <td>0.75229</td>\n",
       "      <td>0.66359</td>\n",
       "    </tr>\n",
       "    <tr>\n",
       "      <th>315</th>\n",
       "      <td>Amazon Customer \"johncrea\"</td>\n",
       "      <td>5.00000</td>\n",
       "      <td>Samsung Galaxy Tab2 works with this card if re...</td>\n",
       "      <td>38</td>\n",
       "      <td>10</td>\n",
       "      <td>48</td>\n",
       "      <td>2012-08-13</td>\n",
       "      <td>28</td>\n",
       "      <td>0.79167</td>\n",
       "      <td>0.65741</td>\n",
       "    </tr>\n",
       "    <tr>\n",
       "      <th>1465</th>\n",
       "      <td>D. Stein</td>\n",
       "      <td>4.00000</td>\n",
       "      <td>Finally.</td>\n",
       "      <td>7</td>\n",
       "      <td>0</td>\n",
       "      <td>7</td>\n",
       "      <td>2014-04-14</td>\n",
       "      <td>7</td>\n",
       "      <td>1.00000</td>\n",
       "      <td>0.64567</td>\n",
       "    </tr>\n",
       "    <tr>\n",
       "      <th>1609</th>\n",
       "      <td>Eskimo</td>\n",
       "      <td>5.00000</td>\n",
       "      <td>Bet you wish you had one of these</td>\n",
       "      <td>7</td>\n",
       "      <td>0</td>\n",
       "      <td>7</td>\n",
       "      <td>2014-03-26</td>\n",
       "      <td>7</td>\n",
       "      <td>1.00000</td>\n",
       "      <td>0.64567</td>\n",
       "    </tr>\n",
       "    <tr>\n",
       "      <th>4302</th>\n",
       "      <td>Stayeraug</td>\n",
       "      <td>5.00000</td>\n",
       "      <td>Perfect with GoPro Black 3+</td>\n",
       "      <td>14</td>\n",
       "      <td>2</td>\n",
       "      <td>16</td>\n",
       "      <td>2014-03-21</td>\n",
       "      <td>12</td>\n",
       "      <td>0.87500</td>\n",
       "      <td>0.63977</td>\n",
       "    </tr>\n",
       "    <tr>\n",
       "      <th>4072</th>\n",
       "      <td>sb21 \"sb21\"</td>\n",
       "      <td>5.00000</td>\n",
       "      <td>Used for my Samsung Galaxy Tab 2 7.0</td>\n",
       "      <td>6</td>\n",
       "      <td>0</td>\n",
       "      <td>6</td>\n",
       "      <td>2012-11-09</td>\n",
       "      <td>6</td>\n",
       "      <td>1.00000</td>\n",
       "      <td>0.60967</td>\n",
       "    </tr>\n",
       "    <tr>\n",
       "      <th>1072</th>\n",
       "      <td>Crysis Complex</td>\n",
       "      <td>5.00000</td>\n",
       "      <td>Works wonders for the Galaxy Note 2!</td>\n",
       "      <td>5</td>\n",
       "      <td>0</td>\n",
       "      <td>5</td>\n",
       "      <td>2012-05-10</td>\n",
       "      <td>5</td>\n",
       "      <td>1.00000</td>\n",
       "      <td>0.56552</td>\n",
       "    </tr>\n",
       "    <tr>\n",
       "      <th>2583</th>\n",
       "      <td>J. Wong</td>\n",
       "      <td>5.00000</td>\n",
       "      <td>Works Great with a GoPro 3 Black!</td>\n",
       "      <td>5</td>\n",
       "      <td>0</td>\n",
       "      <td>5</td>\n",
       "      <td>2013-08-06</td>\n",
       "      <td>5</td>\n",
       "      <td>1.00000</td>\n",
       "      <td>0.56552</td>\n",
       "    </tr>\n",
       "    <tr>\n",
       "      <th>121</th>\n",
       "      <td>A. Lee</td>\n",
       "      <td>5.00000</td>\n",
       "      <td>ready for use on the Galaxy S3</td>\n",
       "      <td>5</td>\n",
       "      <td>0</td>\n",
       "      <td>5</td>\n",
       "      <td>2012-05-09</td>\n",
       "      <td>5</td>\n",
       "      <td>1.00000</td>\n",
       "      <td>0.56552</td>\n",
       "    </tr>\n",
       "    <tr>\n",
       "      <th>1142</th>\n",
       "      <td>Daniel Pham(Danpham_X @ yahoo.  com)</td>\n",
       "      <td>5.00000</td>\n",
       "      <td>Great large capacity card</td>\n",
       "      <td>5</td>\n",
       "      <td>0</td>\n",
       "      <td>5</td>\n",
       "      <td>2014-02-04</td>\n",
       "      <td>5</td>\n",
       "      <td>1.00000</td>\n",
       "      <td>0.56552</td>\n",
       "    </tr>\n",
       "    <tr>\n",
       "      <th>1753</th>\n",
       "      <td>G. Becker</td>\n",
       "      <td>5.00000</td>\n",
       "      <td>Use Nothing Other Than the Best</td>\n",
       "      <td>5</td>\n",
       "      <td>0</td>\n",
       "      <td>5</td>\n",
       "      <td>2012-10-22</td>\n",
       "      <td>5</td>\n",
       "      <td>1.00000</td>\n",
       "      <td>0.56552</td>\n",
       "    </tr>\n",
       "  </tbody>\n",
       "</table>\n",
       "</div>"
      ],
      "text/plain": [
       "                              reviewerName  overall                                            summary  helpful_yes  helpful_no  total_vote  reviewTime  score_pos_neg_diff  score_average_rating  wilson_lower_bound\n",
       "2031                  Hyoun Kim \"Faluzure\"  5.00000  UPDATED - Great w/ Galaxy S4 & Galaxy Tab 4 10...         1952          68        2020  2013-01-05                1884               0.96634             0.95754\n",
       "3449                     NLee the Engineer  5.00000  Top of the class among all (budget-priced) mic...         1428          77        1505  2012-09-26                1351               0.94884             0.93652\n",
       "4212                           SkincareCEO  1.00000  1 Star reviews - Micro SDXC card unmounts itse...         1568         126        1694  2013-05-08                1442               0.92562             0.91214\n",
       "317                Amazon Customer \"Kelly\"  1.00000                                Warning, read this!          422          73         495  2012-02-09                 349               0.85253             0.81858\n",
       "4672                               Twister  5.00000  Super high capacity!!!  Excellent price (on Am...           45           4          49  2014-07-03                  41               0.91837             0.80811\n",
       "1835                           goconfigure  5.00000                                           I own it           60           8          68  2014-02-28                  52               0.88235             0.78465\n",
       "3981            R. Sutton, Jr. \"RWSynergy\"  5.00000  Resolving confusion between \"Mobile Ultra\" and...          112          27         139  2012-10-22                  85               0.80576             0.73214\n",
       "3807                            R. Heisler  3.00000   Good buy for the money but wait, I had an issue!           22           3          25  2013-02-27                  19               0.88000             0.70044\n",
       "4306                         Stellar Eller  5.00000                                      Awesome Card!           51          14          65  2012-09-06                  37               0.78462             0.67033\n",
       "4596           Tom Henriksen \"Doggy Diner\"  1.00000     Designed incompatibility/Don't support SanDisk           82          27         109  2012-09-22                  55               0.75229             0.66359\n",
       "315             Amazon Customer \"johncrea\"  5.00000  Samsung Galaxy Tab2 works with this card if re...           38          10          48  2012-08-13                  28               0.79167             0.65741\n",
       "1465                              D. Stein  4.00000                                           Finally.            7           0           7  2014-04-14                   7               1.00000             0.64567\n",
       "1609                                Eskimo  5.00000                  Bet you wish you had one of these            7           0           7  2014-03-26                   7               1.00000             0.64567\n",
       "4302                             Stayeraug  5.00000                        Perfect with GoPro Black 3+           14           2          16  2014-03-21                  12               0.87500             0.63977\n",
       "4072                           sb21 \"sb21\"  5.00000               Used for my Samsung Galaxy Tab 2 7.0            6           0           6  2012-11-09                   6               1.00000             0.60967\n",
       "1072                        Crysis Complex  5.00000               Works wonders for the Galaxy Note 2!            5           0           5  2012-05-10                   5               1.00000             0.56552\n",
       "2583                               J. Wong  5.00000                  Works Great with a GoPro 3 Black!            5           0           5  2013-08-06                   5               1.00000             0.56552\n",
       "121                                 A. Lee  5.00000                     ready for use on the Galaxy S3            5           0           5  2012-05-09                   5               1.00000             0.56552\n",
       "1142  Daniel Pham(Danpham_X @ yahoo.  com)  5.00000                          Great large capacity card            5           0           5  2014-02-04                   5               1.00000             0.56552\n",
       "1753                             G. Becker  5.00000                    Use Nothing Other Than the Best            5           0           5  2012-10-22                   5               1.00000             0.56552"
      ]
     },
     "execution_count": 26,
     "metadata": {},
     "output_type": "execute_result"
    }
   ],
   "source": [
    "df.sort_values(\"wilson_lower_bound\", ascending=False).head(20)"
   ]
  }
 ],
 "metadata": {
  "kernelspec": {
   "display_name": "Python 3",
   "language": "python",
   "name": "python3"
  },
  "language_info": {
   "codemirror_mode": {
    "name": "ipython",
    "version": 3
   },
   "file_extension": ".py",
   "mimetype": "text/x-python",
   "name": "python",
   "nbconvert_exporter": "python",
   "pygments_lexer": "ipython3",
   "version": "3.10.10"
  },
  "papermill": {
   "default_parameters": {},
   "duration": 16.276177,
   "end_time": "2023-06-21T11:22:38.816676",
   "environment_variables": {},
   "exception": null,
   "input_path": "__notebook__.ipynb",
   "output_path": "__notebook__.ipynb",
   "parameters": {},
   "start_time": "2023-06-21T11:22:22.540499",
   "version": "2.4.0"
  }
 },
 "nbformat": 4,
 "nbformat_minor": 5
}
